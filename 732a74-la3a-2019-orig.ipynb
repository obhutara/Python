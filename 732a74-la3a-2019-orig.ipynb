{
 "cells": [
  {
   "cell_type": "markdown",
   "metadata": {},
   "source": [
    "# Lab 3A: Introductory Object-oriented Programming in Python\n"
   ]
  },
  {
   "cell_type": "markdown",
   "metadata": {},
   "source": [
    "__Student:__ abcde123\n",
    "\n",
    "__Student:__ abcde123"
   ]
  },
  {
   "cell_type": "markdown",
   "metadata": {},
   "source": [
    "# 2. Introduction"
   ]
  },
  {
   "cell_type": "markdown",
   "metadata": {},
   "source": [
    "## Object-oriented Programming"
   ]
  },
  {
   "cell_type": "markdown",
   "metadata": {},
   "source": [
    "The point of Object-oriented Programming is to support encapsulation and the DRY (Don't Repeat Yourself) principle without things getting out of hand. Often, software architects (those high-level programmers who are responsible for how large systems are designed on a technical level) talk about Object-oriented design or Object-oriented analysis. The point of this is to identify the necessary _objects_ in a system. An object in this sense is not exactly the same as a Python object but rather a somewhat higher level logical unit which can reasonably be thought of as an independent component within the system. These high level objects might then be further subdivided into smaller and smaller objects and at a some level the responsibility shifts from the system architect to the team or individual developer working on a specific component. Thus, Object-oriented thinking is necessary for anyone developing code which will be integrated with a larger system, for instance a data scientist implementing analytics tools."
   ]
  },
  {
   "cell_type": "markdown",
   "metadata": {},
   "source": [
    "## OOP in Python"
   ]
  },
  {
   "cell_type": "markdown",
   "metadata": {},
   "source": [
    "Python implements the Object-oriented paradigm to a somewhat larger degree than the Functional paradigm. However, there are features considered necessary for _strict_ object-oriented programming missing from Python. Mainly, we are talking about data protection. Not in a software security sense, but in the sense of encapsulation. There is no simple way to strictly control access to member variables in Python. This does not affect this lab in any way but is worth remembering if one has worked in a language such as Java previously."
   ]
  },
  {
   "cell_type": "markdown",
   "metadata": {},
   "source": [
    "# 3. Simple instance tests in Python"
   ]
  },
  {
   "cell_type": "markdown",
   "metadata": {},
   "source": [
    "Note: some of these questions will be extremely simple, and some might prove trickier. Don't expect that the answer needs to be hard."
   ]
  },
  {
   "cell_type": "code",
   "execution_count": null,
   "metadata": {},
   "outputs": [],
   "source": [
    "class Person:\n",
    "    def __init__(self, name):\n",
    "        self.name = name\n",
    "        self.age = 0            # Age should be non-negative.\n",
    "        \n",
    "    def get_age(self):\n",
    "        \"\"\"Return the Person's age, a non-negative number.\"\"\"\n",
    "        return self.age\n",
    "    \n",
    "    def return_five(self):\n",
    "        \"\"\"Return 5. Dummy function.\"\"\"\n",
    "        return 5\n",
    "\n",
    "Jackal = Person \n",
    "\n",
    "president = Person(\"Jeb\")\n",
    "psec = Jackal(\"CJ Cregg\")"
   ]
  },
  {
   "cell_type": "markdown",
   "metadata": {},
   "source": [
    "a) Change the age of the `president` to 65 (`psec` should be unaffected)."
   ]
  },
  {
   "cell_type": "code",
   "execution_count": null,
   "metadata": {},
   "outputs": [],
   "source": []
  },
  {
   "cell_type": "markdown",
   "metadata": {},
   "source": [
    "[Note: This mode of operation is sometimes considered poor OOP. We will remedy this later.]"
   ]
  },
  {
   "cell_type": "markdown",
   "metadata": {},
   "source": [
    "b) How many `Person` instances are there? One, two or three?"
   ]
  },
  {
   "cell_type": "code",
   "execution_count": null,
   "metadata": {},
   "outputs": [],
   "source": []
  },
  {
   "cell_type": "markdown",
   "metadata": {},
   "source": [
    "c) Consider the following code snippets. What do you think that they will return, and why? Discuss amongst yourselves. After that, run the code and explain the output. You only need to write down your explanation of the output."
   ]
  },
  {
   "cell_type": "code",
   "execution_count": null,
   "metadata": {},
   "outputs": [],
   "source": [
    "\"Jeb\" is Person"
   ]
  },
  {
   "cell_type": "code",
   "execution_count": null,
   "metadata": {
    "scrolled": true
   },
   "outputs": [],
   "source": [
    "president is Person"
   ]
  },
  {
   "cell_type": "code",
   "execution_count": null,
   "metadata": {},
   "outputs": [],
   "source": [
    "# Your answer goes here."
   ]
  },
  {
   "cell_type": "markdown",
   "metadata": {},
   "source": [
    "d) How would you go about checking whether or not the value bound to the name `president` is-a `Person`?"
   ]
  },
  {
   "cell_type": "code",
   "execution_count": null,
   "metadata": {},
   "outputs": [],
   "source": []
  },
  {
   "cell_type": "markdown",
   "metadata": {},
   "source": [
    "# 4. Subclasses"
   ]
  },
  {
   "cell_type": "markdown",
   "metadata": {},
   "source": [
    "a) Create class `Employee`, a subclass of `Person` with data attributes (fields) \n",
    "* `__work_days_accrued`\n",
    "* `__daily_salary`. \n",
    "\n",
    "These should be *the only* data attributes which you write in your class definition. In particular, you may not duplicate `name` and `age`.\n",
    "\n",
    "There should be methods\n",
    "* `work` which increments the numer of work days accrued.\n",
    "* `expected_payout` which just returns the expected payout for the employee based on the accrued work days and daily salary (but without doing any resets).\n",
    "* `payout` which returns the accrued salary and resets the number of work days accrued. The `payout` function may not perform any calculations itself."
   ]
  },
  {
   "cell_type": "code",
   "execution_count": null,
   "metadata": {},
   "outputs": [],
   "source": [
    "# Your code goes here.\n",
    "\n",
    "\n",
    "# Ready-made tests.\n",
    "print(\"--- Setting up test cases.\")\n",
    "cleaner = Employee(name = \"Scruffy\")  # Should have daily_salary 15.\n",
    "josh = Employee(name = \"Josh\", daily_salary = 1000)\n",
    "toby = Employee(name = \"Toby\", daily_salary = 9999)\n",
    "\n",
    "josh.work()\n",
    "josh.work()\n",
    "toby.work()\n",
    "toby.work()\n",
    "toby.work()\n",
    "cleaner.work()\n",
    "\n",
    "print(\"--- Testing payout and expected_payout properties.\")\n",
    "assert cleaner.expected_payout() == 15, \"default salary should be 15\"\n",
    "assert josh.expected_payout() == 1000*2\n",
    "assert josh.payout() == 1000*2\n",
    "assert josh.expected_payout() == 0, \"salary should be reset afterwards\"\n",
    "assert toby.payout() == 9999*3, \"toby and josh instances should be independent.\"\n",
    "print(\"OK\")\n",
    "\n",
    "print(\"--- Testing non-data-accessing calls to superclass methods.\")\n",
    "assert josh.return_five() == 5, \"Person.return_five should be accessible\"\n",
    "print(\"OK\")\n",
    "\n",
    "print(\"--- Testing data that should be set up by initialiser call.\")\n",
    "assert josh.get_age() == 0, \"superclass method should be callable, values should not be missing.\"\n",
    "josh.age = 9\n",
    "assert josh.get_age() == 9, \"superclass method should be callable\"\n",
    "print(\"OK\")"
   ]
  },
  {
   "cell_type": "markdown",
   "metadata": {},
   "source": [
    "b) Which public data attributes (fields) does an `Employee` have? Can you access the age of an employee directly (without some transformation of the name)? The daily salary?"
   ]
  },
  {
   "cell_type": "code",
   "execution_count": null,
   "metadata": {},
   "outputs": [],
   "source": [
    "# Answer here.\n",
    "\n",
    "josh"
   ]
  },
  {
   "cell_type": "markdown",
   "metadata": {},
   "source": [
    "c) Create another subclass of `Person`. This should be called `Student`. Students have the method `work`, which only increases their age by 1/365. Students start out at age 7 (not 0, as persons). You may not modify the `Person` class."
   ]
  },
  {
   "cell_type": "code",
   "execution_count": null,
   "metadata": {},
   "outputs": [],
   "source": [
    "# Your code here\n",
    "\n",
    "studious_student = Student(name = \"Mike\")\n",
    "assert studious_student.age == 7"
   ]
  },
  {
   "cell_type": "markdown",
   "metadata": {},
   "source": [
    "# 5. Multiple inheritance"
   ]
  },
  {
   "cell_type": "markdown",
   "metadata": {},
   "source": [
    "a) Create a subclass `TeachingAssistant`, which so far only contains a constructor. A teaching-assistant is both a Student and an Employee. TA:s daily salaries are always 1."
   ]
  },
  {
   "cell_type": "code",
   "execution_count": null,
   "metadata": {},
   "outputs": [],
   "source": [
    "# Your code here"
   ]
  },
  {
   "cell_type": "markdown",
   "metadata": {},
   "source": [
    "b) How would you test if `severus` below is (some kind of) a `Person`? Note that he is (all TA:s are Persons!), and your test should return `True`."
   ]
  },
  {
   "cell_type": "code",
   "execution_count": null,
   "metadata": {},
   "outputs": [],
   "source": [
    "severus = TeachingAssistant(name = \"Severus\")\n",
    "\n",
    "# Your code here"
   ]
  },
  {
   "cell_type": "markdown",
   "metadata": {},
   "source": [
    "d) Call the `work` method of a TA object, such as `severus`. What happens? Does their age increase? Their accrued salary? Both? Why is this, in your implementation? [Different groups might have slightly different results here, even if their solutions are correct. Discuss your solution.]"
   ]
  },
  {
   "cell_type": "code",
   "execution_count": null,
   "metadata": {},
   "outputs": [],
   "source": [
    "# Write your answer here."
   ]
  },
  {
   "cell_type": "markdown",
   "metadata": {},
   "source": [
    "[Hint: You might want to inspect the `.age` and `.work_days_accrued` attributes of the object. Or simply add a print statement to the work functions that would show you if they were called.]"
   ]
  },
  {
   "cell_type": "markdown",
   "metadata": {},
   "source": [
    "e) Rewrite the `TeachingAssistant` class definition so that eg `severus.work()` will both increase the age and the expected payout."
   ]
  },
  {
   "cell_type": "code",
   "execution_count": null,
   "metadata": {},
   "outputs": [],
   "source": [
    "# Your code here (copy and paste, and modify the code from above)."
   ]
  },
  {
   "cell_type": "markdown",
   "metadata": {},
   "source": [
    "# 6. Further encapsulation, and properties"
   ]
  },
  {
   "cell_type": "markdown",
   "metadata": {},
   "source": [
    "a) How would you rewrite the `Person` class so that we can remove `get_age` and provide `.age` as a getter-only property? Use the `@property` syntax. You may rename member attributes."
   ]
  },
  {
   "cell_type": "code",
   "execution_count": null,
   "metadata": {},
   "outputs": [],
   "source": [
    "class Person:\n",
    "    def __init__(self, name,age=0):\n",
    "        self.name = name\n",
    "        self._age = age           # Age should be non-negative.\n",
    "    \n",
    "    @property\n",
    "    def age(self):\n",
    "        \"\"\"Return the Person's age, a non-negative number.\"\"\"\n",
    "        return self._age\n",
    "    \n",
    "    def return_five(self):\n",
    "        \"\"\"Return 5. Dummy function.\"\"\"\n",
    "        return 5\n",
    "\n",
    "president = Person(\"Jeb\")"
   ]
  },
  {
   "cell_type": "markdown",
   "metadata": {},
   "source": [
    "b) Try to set `president.age` to 100. What happens?"
   ]
  },
  {
   "cell_type": "code",
   "execution_count": 4,
   "metadata": {},
   "outputs": [
    {
     "data": {
      "text/plain": [
       "<__main__.Celsius at 0x17dc605ae48>"
      ]
     },
     "execution_count": 4,
     "metadata": {},
     "output_type": "execute_result"
    }
   ],
   "source": [
    "class Celsius:\n",
    "    def __init__(self, temperature = 0):\n",
    "        self._temperature = temperature\n",
    "\n",
    "    def to_fahrenheit(self):\n",
    "        return (self.temperature * 1.8) + 32\n",
    "\n",
    "    @property\n",
    "    def temperature(self):\n",
    "        print(\"Getting value\")\n",
    "        return self._temperature\n",
    "\n",
    "    @temperature.setter\n",
    "    def temperature(self, value):\n",
    "        if value < -273:\n",
    "            raise ValueError(\"Temperature below -273 is not possible\")\n",
    "        print(\"Setting value\")\n",
    "        self._temperature = value\n",
    "        \n",
    "c=Celsius() \n",
    "c"
   ]
  },
  {
   "cell_type": "markdown",
   "metadata": {},
   "source": [
    "c) Now we've modified the `Person` class. What kind of problems do you suspect might come from this when looking at the child classes (without modifying them!)? Give a statement, a sensible line of code, below which demonstrates this."
   ]
  },
  {
   "cell_type": "code",
   "execution_count": null,
   "metadata": {},
   "outputs": [],
   "source": [
    "# You might want to copy your subclass definitions here (although re-running the cells somewhere above\n",
    "# should be just fine)."
   ]
  },
  {
   "cell_type": "code",
   "execution_count": null,
   "metadata": {},
   "outputs": [],
   "source": [
    "# Provide some test case which fails here."
   ]
  },
  {
   "cell_type": "markdown",
   "metadata": {},
   "source": [
    "Note: above we changed the public interface of a class, which some other classes or behaviours had come to rely on. "
   ]
  },
  {
   "cell_type": "markdown",
   "metadata": {},
   "source": [
    "d) Let's say that we previously had the implicit contract \"ages are non-negative numbers\". This was an idea in the mind of the programmer, but had not implemented in code. Cut-and-paste your modified solution, and add a setter for `age` which enforces this (again, using the decorator `@` syntax). If the age is negative (or something where the comparison fails), a `ValueError` should be raised."
   ]
  },
  {
   "cell_type": "code",
   "execution_count": null,
   "metadata": {},
   "outputs": [],
   "source": [
    "# Your code goes here."
   ]
  },
  {
   "cell_type": "markdown",
   "metadata": {},
   "source": [
    "Cf the raising of ValueErrors in lab 2A."
   ]
  },
  {
   "cell_type": "markdown",
   "metadata": {},
   "source": [
    "e) Given this addition of a somewhat restrictive setter, do the problems with the subclasses that you encountered above disappear? Does this make sense?"
   ]
  },
  {
   "cell_type": "code",
   "execution_count": null,
   "metadata": {},
   "outputs": [],
   "source": [
    "# Your answer."
   ]
  },
  {
   "cell_type": "markdown",
   "metadata": {},
   "source": [
    "General note: If you use Python as a scripting language, having only taken this course, implementing deep or complex structures with multiple inheritances is unlikely to be your first task. What you should recall is that (i) you can do this, (ii) how you can do this technically, (iii) that Python will give you a lot of leeway and (iv) that what you expose in the code matters if someone may later come to rely on it. Especially if the documentation is somewhat lacking, and where contracts are not made explicit in a way that the system will enforce (eg ages should be non-negative). This last part is possibly the most important."
   ]
  },
  {
   "cell_type": "markdown",
   "metadata": {},
   "source": [
    "# Honourable mentions"
   ]
  },
  {
   "cell_type": "markdown",
   "metadata": {},
   "source": [
    "This lab by no means treats all useful concepts in OOP or Python. You may want to look up\n",
    "* Abstract Classes and abc (see the module `abc`, and the more specialised `abc` in the specialised `collections`).\n",
    "* The concept of \"goose typing\".\n",
    "* The concept of mixins.\n",
    "Etc."
   ]
  },
  {
   "cell_type": "markdown",
   "metadata": {},
   "source": [
    "## Acknowledgments"
   ]
  },
  {
   "cell_type": "markdown",
   "metadata": {},
   "source": [
    "This lab in 732A74 is by Anders Märak Leffler (2019). The introductory text is by Johan Falkenjack (2018).\n",
    "\n",
    "Licensed under [CC-BY-SA 4.0](https://creativecommons.org/licenses/by-sa/4.0/)."
   ]
  }
 ],
 "metadata": {
  "anaconda-cloud": {},
  "kernelspec": {
   "display_name": "Python 3",
   "language": "python",
   "name": "python3"
  },
  "language_info": {
   "codemirror_mode": {
    "name": "ipython",
    "version": 3
   },
   "file_extension": ".py",
   "mimetype": "text/x-python",
   "name": "python",
   "nbconvert_exporter": "python",
   "pygments_lexer": "ipython3",
   "version": "3.7.1"
  }
 },
 "nbformat": 4,
 "nbformat_minor": 2
}
