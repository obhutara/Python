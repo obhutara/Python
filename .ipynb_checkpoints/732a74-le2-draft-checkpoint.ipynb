{
 "cells": [
  {
   "cell_type": "markdown",
   "metadata": {},
   "source": [
    "# Lecture 2: Functions and procedural abstraction, FP [draft]"
   ]
  },
  {
   "cell_type": "markdown",
   "metadata": {},
   "source": [
    "* Functions\n",
    "* Some brief notes on style, debugging and testing.\n",
    "* Declarative patterns and functional programming.\n",
    "* Presentation by Anders Märak Leffler\n",
    "* Attribution: extends work by Johan Falkenjack.\n",
    "* License: [CC-BY-SA 4.0](https://creativecommons.org/licenses/by-sa/4.0/)"
   ]
  },
  {
   "cell_type": "markdown",
   "metadata": {},
   "source": [
    "# Bonus information"
   ]
  },
  {
   "cell_type": "markdown",
   "metadata": {},
   "source": [
    "* Early [preview of Python 3.8](https://www.python.org/downloads/release/python-380a1/) available. (Featuring [walrus operator](https://medium.com/hultner/try-out-walrus-operator-in-python-3-8-d030ce0ce601), apparently)."
   ]
  },
  {
   "cell_type": "markdown",
   "metadata": {},
   "source": [
    "## Why?"
   ]
  },
  {
   "cell_type": "code",
   "execution_count": null,
   "metadata": {},
   "outputs": [],
   "source": [
    "# A totally made up script, that goes a little overboard (for demonstration purposes).\n",
    "\n",
    "\n",
    "# First we read the data\n",
    "with ... :\n",
    "    # some lines\n",
    "    \n",
    "# Then remove all the duplicates\n",
    "# ...\n",
    "\n",
    "# Then extract the relevant parameters by some algorithm.\n",
    "\n",
    "# ... many lines of code cut and pasted ...\n",
    "# ... many lines of code cut and pasted ...\n",
    "# ... many lines of code cut and pasted ...\n",
    "# ... many lines of code cut and pasted ...\n",
    "# ... many lines of code cut and pasted ...\n",
    "\n",
    "\n",
    "# Make sure that model_is_consistent is True iff the model is consistent (with some property).\n",
    "\n",
    "# ... many lines of code cut and pasted ...\n",
    "# ... many lines of code cut and pasted ...\n",
    "\n",
    "\n",
    "if model_is_consistent:\n",
    "    # Lots of code for plotting.\n",
    "    # (without _any_ procedural abstraction this would be insane!)"
   ]
  },
  {
   "cell_type": "code",
   "execution_count": 1,
   "metadata": {},
   "outputs": [],
   "source": [
    "# Example, cleaned up.\n",
    "\n",
    "def run_simulation(fname):\n",
    "    \"\"\"Generate a model of data in file fname, and plot it if consistent.\"\"\"\n",
    "    data = read_data(fname) \n",
    "    remove_duplicates(data) \n",
    "    model = extracted_parameters(data) \n",
    "    if model.is_consistent():\n",
    "        plot(data, model)\n",
    "\n",
    "def read_data(fname):\n",
    "    \"\"\"Return the data contents of file named fname.\"\"\"\n",
    "    pass\n",
    "\n",
    "def remove_duplicates(dataset):\n",
    "    \"\"\"Remove duplicates from mutable input dataset.\"\"\"\n",
    "    pass\n",
    "\n",
    "def extracted_parameters(dataset):\n",
    "    \"\"\"Return a model based on the dataset, with features XYZ\"\"\"\n",
    "    pass"
   ]
  },
  {
   "cell_type": "markdown",
   "metadata": {},
   "source": [
    "* Structure and procedural abstraction. \n",
    "    * Designing programs (\"here I need *something that reads the data* and *something that cleans up the input*,...\"), rather than \"first I do instructions $s_0,\\ldots, s_{1000}$ then jump back to step $s_{349}$ if $x$ is even...\").\n",
    "    * Readability.\n",
    "    * Encapsulating behaviour.\n",
    "    * Modularity in testing. Did everything fail because of a mistake in the \"remove duplicates\" chunk of code? We can test that more easily now."
   ]
  },
  {
   "cell_type": "markdown",
   "metadata": {},
   "source": [
    "* Practical scripting issues: \n",
    "    * less repeated code (less \"did I remember to fix the bug in *all* of the copy-pasted code?\").\n",
    "    * redo this calculation, but with other inputs.\n",
    "* ... and much more ..."
   ]
  },
  {
   "cell_type": "markdown",
   "metadata": {},
   "source": [
    "Caveats:\n",
    "* Sometimes having only a simple script makes sense.\n",
    "* Sometimes replacing function calls with their code makes *enough* sense from a performance perspective. "
   ]
  },
  {
   "cell_type": "markdown",
   "metadata": {},
   "source": [
    "## Functions in Python"
   ]
  },
  {
   "cell_type": "markdown",
   "metadata": {},
   "source": [
    "* Typically defined with `def` or a `lambda`.\n",
    "* First-class (callable) values. *A function is just an object.*\n",
    "    * Corollary: you can't have two distinct f(x) and f(x,y) [without tricks].\n",
    "* Called by `function_name(<arguments>)`."
   ]
  },
  {
   "cell_type": "code",
   "execution_count": null,
   "metadata": {},
   "outputs": [],
   "source": [
    "def hungarian_method():\n",
    "    print(\"My hovercraft is full of eels.\")\n",
    "\n",
    "def print_args(x):\n",
    "    print(\"I was called with: \", x)\n",
    "    return x"
   ]
  },
  {
   "cell_type": "code",
   "execution_count": null,
   "metadata": {},
   "outputs": [],
   "source": [
    "hungarian_method()"
   ]
  },
  {
   "cell_type": "code",
   "execution_count": null,
   "metadata": {},
   "outputs": [],
   "source": [
    "print_args(99)"
   ]
  },
  {
   "cell_type": "code",
   "execution_count": null,
   "metadata": {},
   "outputs": [],
   "source": [
    "# What will this do? Crash? Print? Return?\n",
    "print_args(hungarian_method)"
   ]
  },
  {
   "cell_type": "code",
   "execution_count": 1,
   "metadata": {},
   "outputs": [
    {
     "ename": "SyntaxError",
     "evalue": "invalid syntax (<ipython-input-1-b0f232e62fbc>, line 1)",
     "output_type": "error",
     "traceback": [
      "\u001b[1;36m  File \u001b[1;32m\"<ipython-input-1-b0f232e62fbc>\"\u001b[1;36m, line \u001b[1;32m1\u001b[0m\n\u001b[1;33m    print_args(hungarian_method{})\u001b[0m\n\u001b[1;37m                               ^\u001b[0m\n\u001b[1;31mSyntaxError\u001b[0m\u001b[1;31m:\u001b[0m invalid syntax\n"
     ]
    }
   ],
   "source": [
    "print_args(hungarian_method{})"
   ]
  },
  {
   "cell_type": "markdown",
   "metadata": {},
   "source": [
    "* Lambdas contain a single expression, and have implicit return."
   ]
  },
  {
   "cell_type": "code",
   "execution_count": null,
   "metadata": {},
   "outputs": [],
   "source": [
    "# Single argument lambda\n",
    "sq = None \n",
    "\n",
    "# Two argument lambda\n",
    "add = None\n",
    "\n",
    "# No argument lambda\n",
    "give_me_five = None"
   ]
  },
  {
   "cell_type": "code",
   "execution_count": null,
   "metadata": {},
   "outputs": [],
   "source": [
    "bad_lambda = lambda x : ????"
   ]
  },
  {
   "cell_type": "markdown",
   "metadata": {},
   "source": [
    "(Yes you can get around this, even without wrapping your code in a function, but you shouldn't. Use a `def` instead in that case.)"
   ]
  },
  {
   "cell_type": "code",
   "execution_count": null,
   "metadata": {},
   "outputs": [],
   "source": [
    "# Optional task: figure out how to make a lambda that imports the math module, requests an input and \n",
    "# prints the square root of that input when run.\n",
    "\n",
    "# This is really bad style, but might be fun to think about in order to understand the language. \n",
    "# This also suggests another reason as to why your code shouldn't eval(...) user input willy-nilly, as some textbooks\n",
    "# suggest."
   ]
  },
  {
   "cell_type": "markdown",
   "metadata": {},
   "source": [
    "* When are arguments evaluated? Applicative-order evaluation."
   ]
  },
  {
   "cell_type": "code",
   "execution_count": null,
   "metadata": {},
   "outputs": [],
   "source": [
    "# What will this print?\n",
    "\n",
    "def f(n):\n",
    "    print(\"--- Running f now!\")\n",
    "    return n\n",
    "    \n",
    "print_args(print_args(f(100)))"
   ]
  },
  {
   "cell_type": "code",
   "execution_count": null,
   "metadata": {},
   "outputs": [],
   "source": [
    "# What happens to unused parameters?\n",
    "\n",
    "def test(use_2nd_arg, arg):\n",
    "    if use_2nd_arg:\n",
    "        print(arg)\n",
    "    else:\n",
    "        print(\"--- Didn't really need the value.\")\n",
    "        \n",
    "test(False, f(99))"
   ]
  },
  {
   "cell_type": "markdown",
   "metadata": {},
   "source": [
    "* Keyword arguments. Useful to clarify calls!"
   ]
  },
  {
   "cell_type": "code",
   "execution_count": null,
   "metadata": {},
   "outputs": [],
   "source": []
  },
  {
   "cell_type": "markdown",
   "metadata": {},
   "source": [
    "You can combine keyword arguments and regular positional, but positional come first."
   ]
  },
  {
   "cell_type": "markdown",
   "metadata": {},
   "source": [
    "[Note: Core developer Raymond Hettinger argues for (over)using this in [PyCon 2013: Transforming Code into Beautiful, Idiomatic Python](https://youtu.be/OSGv2VnC0go?t=1841)]"
   ]
  },
  {
   "cell_type": "markdown",
   "metadata": {},
   "source": [
    "* Default arguments. Should follow non-default arguments."
   ]
  },
  {
   "cell_type": "code",
   "execution_count": null,
   "metadata": {},
   "outputs": [],
   "source": [
    "def test(use_2nd_arg=True, arg=5):\n",
    "    if use_2nd_arg:\n",
    "        print(arg)\n",
    "    else:\n",
    "        print(\"--- Didn't really need the value.\")"
   ]
  },
  {
   "cell_type": "markdown",
   "metadata": {},
   "source": [
    "Helps with understanding [the documentation](https://docs.python.org/3.7/library/functions.html#print)."
   ]
  },
  {
   "cell_type": "code",
   "execution_count": null,
   "metadata": {},
   "outputs": [],
   "source": [
    "# What will happen here?\n",
    "\n",
    "def add_to_list(e, lst=[]):\n",
    "    lst.append(e)\n",
    "    return lst\n",
    "\n",
    "my_list = add_to_list(999)\n",
    "add_to_list(123, my_list)\n",
    "print(my_list)\n",
    "my_other_list = add_to_list(\"bat\")\n",
    "add_to_list(\"man\", my_other_list)\n",
    "print(my_other_list)"
   ]
  },
  {
   "cell_type": "markdown",
   "metadata": {},
   "source": [
    "* Functions can be defined within functions.\n",
    "* Static/lexical scoping. What will the following print?"
   ]
  },
  {
   "cell_type": "code",
   "execution_count": null,
   "metadata": {},
   "outputs": [],
   "source": [
    "# What will this print?\n",
    "\n",
    "x = 5\n",
    "def f():\n",
    "    print(\"I'm in f! Now x is \", x)\n",
    "    \n",
    "def g(x):\n",
    "    print(\"I'm in g! Now x is \", x)\n",
    "    f()\n",
    "\n",
    "print(\"--- Calling f.\")\n",
    "f()\n",
    "\n",
    "print(\"--- Calling g (which in turn calls f).\")\n",
    "g(99)"
   ]
  },
  {
   "cell_type": "markdown",
   "metadata": {},
   "source": [
    "* LEGB lookup (first Local, then Enclosing, Global and finally Builtin scope).\n",
    "* Binds values locally (unless told otherwise)."
   ]
  },
  {
   "cell_type": "code",
   "execution_count": null,
   "metadata": {},
   "outputs": [],
   "source": [
    "# What will happen?\n",
    "\n",
    "x = 1\n",
    "print(\"Before, x is\", x)\n",
    "def f():\n",
    "    print(\"In f, x is\", x)\n",
    "    \n",
    "f()\n",
    "print(\"Afterwards, x is\", x)"
   ]
  },
  {
   "cell_type": "code",
   "execution_count": null,
   "metadata": {},
   "outputs": [],
   "source": [
    "# What will happen?\n",
    "\n",
    "x = 1\n",
    "print(\"Before, x is\", x)\n",
    "def f():\n",
    "    x = 5\n",
    "    print(\"In f, x is\", x)\n",
    "    \n",
    "f()\n",
    "print(\"Afterwards, x is\", x)"
   ]
  },
  {
   "cell_type": "code",
   "execution_count": null,
   "metadata": {},
   "outputs": [],
   "source": [
    "# What will happen?\n",
    "\n",
    "x = 1\n",
    "print(\"Before, x is\", x)\n",
    "def f():\n",
    "    x = x + 1\n",
    "    print(\"In f, x is\", x)\n",
    "    \n",
    "f()\n",
    "print(\"Afterwards, x is\", x)"
   ]
  },
  {
   "cell_type": "code",
   "execution_count": null,
   "metadata": {},
   "outputs": [],
   "source": [
    "# Exercise: play around with the keywords nonlocal and global."
   ]
  },
  {
   "cell_type": "markdown",
   "metadata": {},
   "source": [
    "   * Function + their scope/context (the latter word used losely) form a **closure** (or \"lexical closure\")."
   ]
  },
  {
   "cell_type": "code",
   "execution_count": 149,
   "metadata": {},
   "outputs": [],
   "source": [
    "x = 1\n",
    "y = 2\n",
    "\n",
    "def f(x):\n",
    "    def g():\n",
    "        print(\"In this g, x is\", x, \" and y is \", y)\n",
    "    return g\n",
    "\n",
    "f(100)"
   ]
  },
  {
   "cell_type": "code",
   "execution_count": 147,
   "metadata": {},
   "outputs": [
    {
     "data": {
      "text/plain": [
       "[(1, 2), (3, 3), (2, 5)]"
      ]
     },
     "execution_count": 147,
     "metadata": {},
     "output_type": "execute_result"
    }
   ],
   "source": [
    "# Note: the lambda doesn't get x0 or x1 by parameter. It has to get them from somewhere!\n",
    "\n",
    "def points_close_to(points, x0, y0, max_dist):\n",
    "    is_near = lambda coord : (coord[0] - x0)**2 + (coord[1] - y0)**2 <= max_dist**2\n",
    "    return list(filter(is_near, points))\n",
    "\n",
    "points = [ (1,2), (5,9), (3,3), (2, 5) ]\n",
    "points_close_to(points, 3,3, 3)"
   ]
  },
  {
   "cell_type": "code",
   "execution_count": 170,
   "metadata": {},
   "outputs": [
    {
     "name": "stdout",
     "output_type": "stream",
     "text": [
      "<function f.<locals>.g at 0x7f1758418598>\n"
     ]
    }
   ],
   "source": [
    "# Bonus exercise (way outside the scope of this course): can we reach into a closure? To read values? Write?\n",
    "# Python is flexible with certain things, and others not so much.\n",
    "\n",
    "h100 = f(100)   \n",
    "print(h100)\n",
    "# Play around with h100. Check the dunder methods. (those that start and end with __)"
   ]
  },
  {
   "cell_type": "markdown",
   "metadata": {},
   "source": [
    "[//]: # (Functions are just another type of value. Nothing special.)"
   ]
  },
  {
   "cell_type": "markdown",
   "metadata": {},
   "source": [
    "# A note on naming, style, testing"
   ]
  },
  {
   "cell_type": "markdown",
   "metadata": {},
   "source": [
    "---\n",
    "** YOU DO NOT WRITE CODE FOR THE INTERPRETER. YOU WRITE IT FOR OTHER HUMAN READERS. **\n",
    "\n",
    "---\n",
    "\n",
    "* You should understand your code.\n",
    "* Others should understand your code (and convince themselves of its correctness).\n",
    "* ...one of those 'others' is future you."
   ]
  },
  {
   "cell_type": "markdown",
   "metadata": {},
   "source": [
    "### Python function style interlude"
   ]
  },
  {
   "cell_type": "markdown",
   "metadata": {},
   "source": [
    "> Names that are visible to the user as public parts of the API should follow conventions that reflect usage rather than implementation.\n",
    "\n",
    "The \"Overriding Principle\" from the official [PEP 8 -- Style Guide for Python Code](https://www.python.org/dev/peps/pep-0008/#overriding-principle)."
   ]
  },
  {
   "cell_type": "markdown",
   "metadata": {},
   "source": [
    "**In other words: focus on ** ***what*** **it does (or return), not** ***how*** **it does it.**"
   ]
  },
  {
   "cell_type": "code",
   "execution_count": null,
   "metadata": {},
   "outputs": [],
   "source": [
    "# Slightly obfuscated. What's a good name?\n",
    "\n",
    "def f(x):\n",
    "    for y in x:\n",
    "        x[y] += 1"
   ]
  },
  {
   "cell_type": "markdown",
   "metadata": {},
   "source": [
    "Consider\n",
    "* function name.\n",
    "* parameter names.\n",
    "* variables."
   ]
  },
  {
   "cell_type": "code",
   "execution_count": null,
   "metadata": {
    "scrolled": false
   },
   "outputs": [],
   "source": [
    "help(max)"
   ]
  },
  {
   "cell_type": "code",
   "execution_count": null,
   "metadata": {},
   "outputs": [],
   "source": [
    "# Adding this to the function above."
   ]
  },
  {
   "cell_type": "markdown",
   "metadata": {},
   "source": [
    "**Not** required in labs, but useful. Official guidelines: [PEP 257 -- Docstring Conventions](https://www.python.org/dev/peps/pep-0257/)."
   ]
  },
  {
   "cell_type": "markdown",
   "metadata": {},
   "source": [
    "## A few general hints for design and naming\n",
    "\n",
    "Caveat: large subject, involving personal preferences and official guidelines (sometimes at company level).\n",
    "\n",
    "* Struggling with naming can mean that a function does too many different things.\n",
    "    * Separate effects (print this, write file, change data by deaveraging...) from computation (is this valid data? What is the mean of this?).\n",
    "* Take the **calling function's perspective** when naming.\n",
    "    * Ex: When writing a consistency-checking function, consider if `if is_consistent(data) ...` would more sense than `if calculate_if_data_consistent(data) ...` *for the function calling the one you're writing*.\n",
    "* **Don't mislead**. `is_consistent(data)` should test if it is consistent, not change the data, print something or the like."
   ]
  },
  {
   "cell_type": "markdown",
   "metadata": {},
   "source": [
    "* **Consider the application!** What does the name represent? (Cf last lecture.)"
   ]
  },
  {
   "cell_type": "code",
   "execution_count": null,
   "metadata": {},
   "outputs": [],
   "source": [
    "# Example\n",
    "names = [\"Alonzo\", \"Zeno\", \"Trisse\"]\n",
    "\n",
    "# Bad. j sounds like an index. (i,j,k...)\n",
    "for i, j in enumerate(names):\n",
    "    print(\"The {}th name is {}.\".format(i,j))"
   ]
  },
  {
   "cell_type": "code",
   "execution_count": null,
   "metadata": {},
   "outputs": [],
   "source": [
    "# OK, we know that it's a list of strings. But the strings _represent_ something.\n",
    "for i, string in enumerate(names):\n",
    "    print(\"The {}th name is {}.\".format(i,string))"
   ]
  },
  {
   "cell_type": "code",
   "execution_count": null,
   "metadata": {},
   "outputs": [],
   "source": [
    "for i, name in enumerate(names):\n",
    "    print(\"The {}th name is {}.\".format(i,name))"
   ]
  },
  {
   "cell_type": "markdown",
   "metadata": {},
   "source": [
    "* In *small-scale* top-down design, creating \"empty\" functions with a certain contract can be helpful.\n",
    "    * Example: \"In my program I will need a function `read_data` which takes a file name for a CSV file and returns a data set on format *X*.\" (this is the contract) \"I'll define it, and fill it in later.\"\n",
    "    * A Python function body cannot be empty. `pass` is your friend."
   ]
  },
  {
   "cell_type": "markdown",
   "metadata": {},
   "source": [
    "## A note on testing and (unsystematic) debugging"
   ]
  },
  {
   "cell_type": "markdown",
   "metadata": {},
   "source": [
    "> It has been just so in all of my inventions. The first step is an intuition, and comes with a burst, then difficulties arise - this thing gives out and [it is] then that 'Bugs' - as such little faults and difficulties are called - show themselves and months of intense watching, study and labor are requisite.\n",
    "\n",
    "*Thomas Edison*, quoted in Ammann & Offutt (2017) - Intro to Software Testing, 2nd ed."
   ]
  },
  {
   "cell_type": "markdown",
   "metadata": {},
   "source": [
    "* Plenty of tools out there for debugging.\n",
    "    * One example: [pdb](https://docs.python.org/3.7/library/pdb.html).\n",
    "* We will focus on simpler print-style and asserts."
   ]
  },
  {
   "cell_type": "code",
   "execution_count": null,
   "metadata": {},
   "outputs": [],
   "source": [
    "# Faulty code. Somewhat articificial example. \n",
    "# Also an inefficient method, but let's not worry about that.\n",
    "\n",
    "def calculate_if_prime_or_not(x):\n",
    "    # Check to see if we can find something that divides the number.\n",
    "    for y in range(x):\n",
    "        if y % x == 0:\n",
    "            answer = False\n",
    "        else:\n",
    "            answer = True\n",
    "    return answer"
   ]
  },
  {
   "cell_type": "code",
   "execution_count": null,
   "metadata": {},
   "outputs": [],
   "source": []
  },
  {
   "cell_type": "markdown",
   "metadata": {},
   "source": [
    "What are the issues? Found how?"
   ]
  },
  {
   "cell_type": "code",
   "execution_count": 222,
   "metadata": {
    "scrolled": true
   },
   "outputs": [
    {
     "data": {
      "text/plain": [
       "True"
      ]
     },
     "execution_count": 222,
     "metadata": {},
     "output_type": "execute_result"
    }
   ],
   "source": []
  },
  {
   "cell_type": "code",
   "execution_count": null,
   "metadata": {},
   "outputs": [],
   "source": [
    "def update_result(result, i):\n",
    "    result = result + i\n",
    "\n",
    "def sum_values(n):\n",
    "    result = 0\n",
    "    for i in range(n):\n",
    "        update_result(result, i)\n",
    "    return result"
   ]
  },
  {
   "cell_type": "code",
   "execution_count": 220,
   "metadata": {
    "scrolled": true
   },
   "outputs": [
    {
     "name": "stdout",
     "output_type": "stream",
     "text": [
      "True\n",
      "True\n",
      "False\n",
      "True\n",
      "--- is_prime\n",
      "         7 function calls in 0.000 seconds\n",
      "\n",
      "   Ordered by: standard name\n",
      "\n",
      "   ncalls  tottime  percall  cumtime  percall filename:lineno(function)\n",
      "        1    0.000    0.000    0.000    0.000 :0(exec)\n",
      "        1    0.000    0.000    0.000    0.000 :0(setprofile)\n",
      "        1    0.000    0.000    0.000    0.000 <ipython-input-53-46afc67f094d>:3(is_prime)\n",
      "        2    0.000    0.000    0.000    0.000 <ipython-input-53-46afc67f094d>:4(<genexpr>)\n",
      "        1    0.000    0.000    0.000    0.000 <string>:1(<module>)\n",
      "        1    0.000    0.000    0.000    0.000 profile:0(is_prime(99999999))\n",
      "        0    0.000             0.000          profile:0(profiler)\n",
      "\n",
      "\n",
      "--- is_prime_breaking\n",
      "         7 function calls in 0.000 seconds\n",
      "\n",
      "   Ordered by: standard name\n",
      "\n",
      "   ncalls  tottime  percall  cumtime  percall filename:lineno(function)\n",
      "        1    0.000    0.000    0.000    0.000 :0(exec)\n",
      "        1    0.000    0.000    0.000    0.000 :0(setprofile)\n",
      "        1    0.000    0.000    0.000    0.000 <ipython-input-220-6c2ca1e49e15>:7(is_prime_breaking)\n",
      "        2    0.000    0.000    0.000    0.000 <ipython-input-220-6c2ca1e49e15>:8(<genexpr>)\n",
      "        1    0.000    0.000    0.000    0.000 <string>:1(<module>)\n",
      "        1    0.000    0.000    0.000    0.000 profile:0(is_prime_breaking(99999999))\n",
      "        0    0.000             0.000          profile:0(profiler)\n",
      "\n",
      "\n",
      "--- is_prime_length_based\n",
      "         7 function calls in 6.099 seconds\n",
      "\n",
      "   Ordered by: standard name\n",
      "\n",
      "   ncalls  tottime  percall  cumtime  percall filename:lineno(function)\n",
      "        1    0.000    0.000    6.099    6.099 :0(exec)\n",
      "        1    0.000    0.000    0.000    0.000 :0(len)\n",
      "        1    0.000    0.000    0.000    0.000 :0(setprofile)\n",
      "        1    0.000    0.000    6.099    6.099 <ipython-input-220-6c2ca1e49e15>:4(is_prime_length_based)\n",
      "        1    6.099    6.099    6.099    6.099 <ipython-input-220-6c2ca1e49e15>:5(<listcomp>)\n",
      "        1    0.000    0.000    6.099    6.099 <string>:1(<module>)\n",
      "        1    0.000    0.000    6.099    6.099 profile:0(is_prime_length_based(99999999))\n",
      "        0    0.000             0.000          profile:0(profiler)\n",
      "\n",
      "\n"
     ]
    }
   ],
   "source": [
    "# Bonus segment: an obvious programming way to make it faster (without square roots etc)?\n",
    "\n",
    "# Declarative, \n",
    "def is_prime_length_based(n):\n",
    "    return len([d for d in range(2,n) if n % d == 0]) == 0\n",
    "    # could be written not len(...)\n",
    "    \n",
    "def is_prime_breaking(n):\n",
    "    return None not in (None for d in range(2,n) if not n % d)\n",
    "\n",
    "# What happens if we change () into []?\n",
    "\n",
    "import profile\n",
    "N = 99999999\n",
    "print(\"--- is_prime\")\n",
    "profile.run(\"is_prime({})\".format(N))\n",
    "\n",
    "print(\"--- is_prime_breaking\")\n",
    "profile.run(\"is_prime_breaking({})\".format(N))\n",
    "\n",
    "print(\"--- is_prime_length_based\")\n",
    "profile.run(\"is_prime_length_based({})\".format(N))"
   ]
  },
  {
   "cell_type": "markdown",
   "metadata": {},
   "source": [
    "* We can add assertions to show that our (pure) function passed some useful tests. Corner cases to illustrate?"
   ]
  },
  {
   "cell_type": "code",
   "execution_count": null,
   "metadata": {},
   "outputs": [],
   "source": [
    "assert is_prime(???) == ???, \"???\""
   ]
  },
  {
   "cell_type": "markdown",
   "metadata": {},
   "source": [
    "[Note: We might have other forms of properties that might be suitable for automatic testing. For instance \"all return values should be True/False\", \"all multiples of two integers should be non-prime\" or the like. This is outside the  scope of this course, but an interesting subject to look into.\n",
    "\n",
    "Modest focus here: strategies to find good test cases to convince ourselves somewhat.]\n",
    "\n"
   ]
  },
  {
   "cell_type": "markdown",
   "metadata": {},
   "source": [
    "* Some of these can be expressed as input-output pairs. How to use?"
   ]
  },
  {
   "cell_type": "code",
   "execution_count": null,
   "metadata": {},
   "outputs": [],
   "source": [
    "def test_restricted_sqrt():\n",
    "    pass \n",
    "    print(\"--- test_restricted_sqrt succeeded\")"
   ]
  },
  {
   "cell_type": "markdown",
   "metadata": {},
   "source": [
    "[Note: we can test functions which depend on state as well. We need to set up (relevant) state, run tests and tear it down afterwards. You might want to look at eg [unittest](https://docs.python.org/3.7/library/unittest.html) or other frameworks if you are interested in this.]"
   ]
  },
  {
   "cell_type": "markdown",
   "metadata": {},
   "source": [
    "# Paradigms"
   ]
  },
  {
   "cell_type": "markdown",
   "metadata": {},
   "source": [
    "* Philosophies about code.\n",
    "    * Execution model.\n",
    "    * Code organization.\n",
    "* Python is a multi-paradigm language (sort of)."
   ]
  },
  {
   "cell_type": "markdown",
   "metadata": {},
   "source": [
    "# Functional programming"
   ]
  },
  {
   "cell_type": "markdown",
   "metadata": {},
   "source": [
    "* Typically declarative.\n",
    "* Purity (see below) makes it easy to reason about. (Not necessarily write...)\n",
    "    * In particular for parallel computation.\n",
    "    * MapReduce."
   ]
  },
  {
   "cell_type": "markdown",
   "metadata": {},
   "source": [
    "### Pure functions"
   ]
  },
  {
   "cell_type": "markdown",
   "metadata": {},
   "source": [
    "* No side causes. \n",
    "    * Doesn't depend on the state (of the world)."
   ]
  },
  {
   "cell_type": "code",
   "execution_count": 196,
   "metadata": {
    "scrolled": true
   },
   "outputs": [
    {
     "data": {
      "text/plain": [
       "datetime.datetime(2019, 2, 7, 16, 46, 6, 971550)"
      ]
     },
     "execution_count": 196,
     "metadata": {},
     "output_type": "execute_result"
    }
   ],
   "source": [
    "import datetime\n",
    "\n",
    "def has_side_causes():\n",
    "    return datetime.datetime.now()\n",
    "\n",
    "def no_side_causes():\n",
    "    return 5 + 5\n",
    "    \n",
    "has_side_causes()"
   ]
  },
  {
   "cell_type": "markdown",
   "metadata": {},
   "source": [
    "* No side effects.\n",
    "    * Doesn't change the state of the world."
   ]
  },
  {
   "cell_type": "markdown",
   "metadata": {},
   "source": [
    "Corollary: In (purely) functional programming, \n",
    "* there will be less of hidden dependencies on state.\n",
    "* reduced complexity.\n",
    "* referential transparency. Calling function $f$ with input $X$ will always yield the same result.\n",
    "* mathematical resoning useful (not just \"do X, then Y\")."
   ]
  },
  {
   "cell_type": "markdown",
   "metadata": {},
   "source": [
    "## Feature: higher order functions"
   ]
  },
  {
   "cell_type": "markdown",
   "metadata": {},
   "source": [
    "* Functions with functions as outputs are generally considered higher-order. Have you seen those before? (Functions + scope.)"
   ]
  },
  {
   "cell_type": "code",
   "execution_count": 2,
   "metadata": {},
   "outputs": [],
   "source": [
    "# Exercise."
   ]
  },
  {
   "cell_type": "markdown",
   "metadata": {},
   "source": [
    "* Similarly with functions taking functions as input, or returning functions as output."
   ]
  },
  {
   "cell_type": "code",
   "execution_count": 202,
   "metadata": {},
   "outputs": [
    {
     "data": {
      "text/plain": [
       "[(1, 2), (5, 100)]"
      ]
     },
     "execution_count": 202,
     "metadata": {},
     "output_type": "execute_result"
    }
   ],
   "source": [
    "# Implementing our own filter, with a list comprehension.\n",
    "\n",
    "def points_satisfying(points, to_keep):\n",
    "    \"\"\"Return a list of points which satisfy the criterion set out by the to_keep function.\"\"\"\n",
    "    return [p for p in points if to_keep(p)]\n",
    "\n",
    "points = [ (1,2), (-2,3), (5,100) , (0,-1) ]\n",
    "points_satisfying(points, lambda p : p[0] >= 0 and p[1] >= 0)"
   ]
  },
  {
   "cell_type": "markdown",
   "metadata": {},
   "source": [
    "## Declarative patterns"
   ]
  },
  {
   "cell_type": "markdown",
   "metadata": {},
   "source": [
    "* Many declarative-style patterns are Pythonic.\n",
    "* Often implemented with iterators.\n",
    "* Useful to chain together, one result feeding into the next.\n",
    "* Often well-implemented.\n",
    "* Example: map."
   ]
  },
  {
   "cell_type": "code",
   "execution_count": 226,
   "metadata": {
    "scrolled": true
   },
   "outputs": [
    {
     "name": "stdout",
     "output_type": "stream",
     "text": [
      "<map object at 0x7f175837c4a8>\n"
     ]
    },
    {
     "data": {
      "text/plain": [
       "(1, 4, 9)"
      ]
     },
     "execution_count": 226,
     "metadata": {},
     "output_type": "execute_result"
    }
   ],
   "source": [
    "# map is a standard functional programming pattern.\n",
    "# Cf mathematical mapping. map takes a sequence of values and produces the image of that sequence under a given function.\n",
    "\n",
    "print(map(lambda x : x**2, [1,2,3]))\n",
    "tuple(map(lambda x : x**2, [1,2,3]))"
   ]
  },
  {
   "cell_type": "code",
   "execution_count": 227,
   "metadata": {
    "scrolled": false
   },
   "outputs": [
    {
     "name": "stdout",
     "output_type": "stream",
     "text": [
      "[1, 4, 9]\n",
      "()\n"
     ]
    }
   ],
   "source": [
    "# Caveat: in Python this produces something which generates the values as you ask for them.\n",
    "\n",
    "squares = map(lambda x : x**2, [1,2,3])\n",
    "print(squares)\n",
    "print(list(squares))   # Consumes all the values.\n",
    "print(tuple(squares))  # All consumed."
   ]
  },
  {
   "cell_type": "markdown",
   "metadata": {},
   "source": [
    "Corollary: this can be quite efficient. Doesn't generate values in vain."
   ]
  },
  {
   "cell_type": "markdown",
   "metadata": {},
   "source": [
    "* Example: filter"
   ]
  },
  {
   "cell_type": "code",
   "execution_count": 3,
   "metadata": {},
   "outputs": [
    {
     "data": {
      "text/plain": [
       "[2]"
      ]
     },
     "execution_count": 3,
     "metadata": {},
     "output_type": "execute_result"
    }
   ],
   "source": [
    "# filter keeps those values which conform to a predicate (function which - ideally - returns True/False depending\n",
    "# on if a criterion has been satisfied).\n",
    "\n",
    "is_even = lambda n : n % 2 == 0       # could be written \"not n % 2\"\n",
    "filter(is_even, [1,2,3])\n",
    "list(filter(is_even, [1,2,3]))"
   ]
  },
  {
   "cell_type": "markdown",
   "metadata": {},
   "source": [
    "* Example reduce. "
   ]
  },
  {
   "cell_type": "code",
   "execution_count": 232,
   "metadata": {},
   "outputs": [
    {
     "data": {
      "text/plain": [
       "[[[1, 2], 3], 4]"
      ]
     },
     "execution_count": 232,
     "metadata": {},
     "output_type": "execute_result"
    }
   ],
   "source": [
    "from functools import reduce\n",
    "\n",
    "reduce(lambda acc, e : [acc] + [e], [1,2,3, 4])   # [  [ [1,2] ] + [3]  ] + [4]"
   ]
  },
  {
   "cell_type": "markdown",
   "metadata": {},
   "source": [
    "* These can be combined."
   ]
  },
  {
   "cell_type": "code",
   "execution_count": null,
   "metadata": {},
   "outputs": [],
   "source": [
    "sq = lambda x : x**2\n",
    "seq = range(100)\n",
    "\n",
    "square_evens = ???"
   ]
  },
  {
   "cell_type": "markdown",
   "metadata": {},
   "source": [
    "## A note on recursion"
   ]
  },
  {
   "cell_type": "markdown",
   "metadata": {},
   "source": [
    "* Practiced in lab 2B. \n",
    "* Function values defined in terms... of function values.\n",
    "* Focus on mathematical identities.\n",
    "* Sometimes useful in its own right.\n",
    "* Sometimes inefficient, but useful when turned into non-recursive algorithms.\n",
    "* Use cases here: many tree-structures."
   ]
  },
  {
   "cell_type": "markdown",
   "metadata": {},
   "source": [
    "* Strategy\n",
    "    * \"Pretend\" that we know the solution to a smaller case, extend that.\n",
    "    * What do we know about the *smallest* case (or the smallest cases)?"
   ]
  },
  {
   "cell_type": "code",
   "execution_count": 4,
   "metadata": {},
   "outputs": [],
   "source": [
    "# What is the sum 0 + 1 + ... + (n-1) + n?\n",
    "\n",
    "# Helper function (during program construction).\n",
    "def sum_reference(n):\n",
    "    \"\"\"Return the sum 0+...+n.\"\"\"\n",
    "    return sum(range(n+1))\n",
    "\n",
    "# If we knew the sum 0 + 1 + ... + (n-1)?\n",
    "\n",
    "def sum_rec(n):\n",
    "    pass"
   ]
  },
  {
   "cell_type": "markdown",
   "metadata": {},
   "source": [
    "* Handwaving explanation above. Good mathematical foundations. \n",
    "    * Closely related to inductive proofs.\n",
    "    * Well-orderings."
   ]
  },
  {
   "cell_type": "markdown",
   "metadata": {},
   "source": [
    "* Sanity checks:\n",
    "    * base case (or base cases). \n",
    "    No more subdivision of the problem.\n",
    "    Typical examples: empty list, zero, reached the leaves in a decision tree.\n",
    "    * recursive case. Split into smaller case, and write the solution to this case. (Typically: rest of the list, traverse left or/and right branches of the tree...)"
   ]
  }
 ],
 "metadata": {
  "kernelspec": {
   "display_name": "Python 3",
   "language": "python",
   "name": "python3"
  },
  "language_info": {
   "codemirror_mode": {
    "name": "ipython",
    "version": 3
   },
   "file_extension": ".py",
   "mimetype": "text/x-python",
   "name": "python",
   "nbconvert_exporter": "python",
   "pygments_lexer": "ipython3",
   "version": "3.7.1"
  }
 },
 "nbformat": 4,
 "nbformat_minor": 2
}
