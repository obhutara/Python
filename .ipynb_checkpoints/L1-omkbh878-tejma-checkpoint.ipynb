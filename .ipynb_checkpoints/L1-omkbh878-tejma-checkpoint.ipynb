{
 "cells": [
  {
   "cell_type": "markdown",
   "metadata": {},
   "source": [
    "# Lab 1: Python basics"
   ]
  },
  {
   "cell_type": "markdown",
   "metadata": {},
   "source": [
    "__Student I:__ abcde123 (John Doe)\n",
    "\n",
    "__Student II:__ abcde123 (Jane Doe)"
   ]
  },
  {
   "cell_type": "markdown",
   "metadata": {},
   "source": [
    "### A word of caution\n",
    "\n",
    "There are currently two versions of Python in common use, Python 2 and Python 3, which are not 100% compatible. Python 2 is slowly being phased out but has a large enough install base to still be relevant. This course uses the more modern Python 3 but while searching for help online it is not uncommon to find help for Python 2. Especially older posts on sources such as Stack Exchange might refer to Python 2 as simply \"Python\". This should not cause any serious problems but keep it in mind whenever googling. With regards to this lab, the largest differences are how `print` works and the best practice recommendations for string formatting."
   ]
  },
  {
   "cell_type": "markdown",
   "metadata": {},
   "source": [
    "### References to R\n",
    "\n",
    "Most students taking this course who are not already familiar with Python will probably have some experience of the R programming language. For this reason, there will be intermittent references to R throughout this lab. For those of you with a background in R (or MATLAB/Octave, or Julia) the most important thing to remember is that indexing starts at 0, not at 1."
   ]
  },
  {
   "cell_type": "markdown",
   "metadata": {},
   "source": [
    "### Recommended Reading\n",
    "\n",
    "This course is not built on any specific source and no specific litterature is required. However, for those who prefer to have a printed reference book, we recommended the books by Mark Lutz:\n",
    "\n",
    "* Learning Python by Mark Lutz, 5th edition, O'Reilly. Recommended for those who have no experience of Python. This book is called LP in the text below.\n",
    "\n",
    "* Programming Python by Mark Lutz, 4th edition, O'Reilly. Recommended for those who have some experience with Python, it generally covers more advanced topics than what is included in this course but gives you a chance to dig a bit deeper if you're already comfortable with the basics. This book is called PP in the text.\n",
    "\n",
    "For the student interested in Python as a language, it is worth mentioning\n",
    "* Fluent Python by Luciano Ramalho (also O'Reilly). Note that it is - at the time of writing - still in its first edition, from 2015. Thus newer features will be missing."
   ]
  },
  {
   "cell_type": "markdown",
   "metadata": {},
   "source": [
    "### A note about notebooks\n",
    "\n",
    "When using this notebook, you can enter python code in the empty cells, then press ctrl-enter. The code in the cell is executed and if any output occurs it will be displayed below the square. Code executed in this manner will use the same environment regardless of where in the notebook document it is placed. This means that variables and functions assigned values in one cell will thereafter be accessible from all other cells in your notebook session.\n",
    "\n",
    "Note that the programming environments described in section 1 of LP is not applicable when you run python in this notebook."
   ]
  },
  {
   "cell_type": "markdown",
   "metadata": {},
   "source": [
    "### A note about the structure of this lab\n",
    "\n",
    "This lab will contain tasks of varying difficulty. There might be cases when the solution seems too simple to be true (in retrospect), and cases where you have seen similar material elsewhere in the course. Don't be fooled by this. In many cases, the task might just serve to remind us of things that are worthwhile to check out, or to find out how to use a specific method.\n",
    "\n",
    "We will be returning to, and using, several of the concepts in this lab."
   ]
  },
  {
   "cell_type": "markdown",
   "metadata": {},
   "source": [
    "### 1. Strings and string handling\n",
    "\n",
    "The primary datatype for storing raw text in Python is the string. Note that there is no character datatype, only strings of length 1. This can be compared to how there are no atomic numbers in R, only vectors of length 1. A reference to the string datatype can be found __[here](https://docs.python.org/3/library/stdtypes.html#text-sequence-type-str)__.\n",
    "\n",
    "[Litterature: LP: Part II, especially Chapter 4, 7.]"
   ]
  },
  {
   "cell_type": "markdown",
   "metadata": {},
   "source": [
    "a) Define the variable `parrot` as the string containing the sentence _It is dead, that is what is wrong with it. This is an ex-\"Parrot\"._. \n",
    "\n",
    "[Note: If you have been programming in a language such as C or Java, you might be a bit confused about the term \"define\". Different languages use different terms when creating variables, such as \"define\", \"declare\", \"initialize\", etc. with slightly different meanings. In statically typed languages such as C or Java, declaring a variable creates a name connected to a container which can contain data of a specific type, but does not put a value in that container. Initialization is then the act of putting an initial value in such a container. Defining a variable is often used as a synonym to declaring a variable in statically typed languages but as Python is dynamically typed, i.e. variables can contain values of any type, there is no need to declare variables before initializing them. Thus, defining a variable in python entails simply assigning a value to a new name, at which point the variable is both declared and initialized. This works exactly as in R.]"
   ]
  },
  {
   "cell_type": "code",
   "execution_count": 96,
   "metadata": {},
   "outputs": [],
   "source": [
    "parrot='It is dead, that is what is wrong with it. This is an \"ex-Parrot\"'"
   ]
  },
  {
   "cell_type": "markdown",
   "metadata": {},
   "source": [
    "b) What methods does the string now called `parrot` (or indeed any string) seem to support? Write Python commands below to find out."
   ]
  },
  {
   "cell_type": "code",
   "execution_count": 121,
   "metadata": {},
   "outputs": [
    {
     "data": {
      "text/plain": [
       "['__add__',\n",
       " '__class__',\n",
       " '__contains__',\n",
       " '__delattr__',\n",
       " '__dir__',\n",
       " '__doc__',\n",
       " '__eq__',\n",
       " '__format__',\n",
       " '__ge__',\n",
       " '__getattribute__',\n",
       " '__getitem__',\n",
       " '__getnewargs__',\n",
       " '__gt__',\n",
       " '__hash__',\n",
       " '__init__',\n",
       " '__init_subclass__',\n",
       " '__iter__',\n",
       " '__le__',\n",
       " '__len__',\n",
       " '__lt__',\n",
       " '__mod__',\n",
       " '__mul__',\n",
       " '__ne__',\n",
       " '__new__',\n",
       " '__reduce__',\n",
       " '__reduce_ex__',\n",
       " '__repr__',\n",
       " '__rmod__',\n",
       " '__rmul__',\n",
       " '__setattr__',\n",
       " '__sizeof__',\n",
       " '__str__',\n",
       " '__subclasshook__',\n",
       " 'capitalize',\n",
       " 'casefold',\n",
       " 'center',\n",
       " 'count',\n",
       " 'encode',\n",
       " 'endswith',\n",
       " 'expandtabs',\n",
       " 'find',\n",
       " 'format',\n",
       " 'format_map',\n",
       " 'index',\n",
       " 'isalnum',\n",
       " 'isalpha',\n",
       " 'isascii',\n",
       " 'isdecimal',\n",
       " 'isdigit',\n",
       " 'isidentifier',\n",
       " 'islower',\n",
       " 'isnumeric',\n",
       " 'isprintable',\n",
       " 'isspace',\n",
       " 'istitle',\n",
       " 'isupper',\n",
       " 'join',\n",
       " 'ljust',\n",
       " 'lower',\n",
       " 'lstrip',\n",
       " 'maketrans',\n",
       " 'partition',\n",
       " 'replace',\n",
       " 'rfind',\n",
       " 'rindex',\n",
       " 'rjust',\n",
       " 'rpartition',\n",
       " 'rsplit',\n",
       " 'rstrip',\n",
       " 'split',\n",
       " 'splitlines',\n",
       " 'startswith',\n",
       " 'strip',\n",
       " 'swapcase',\n",
       " 'title',\n",
       " 'translate',\n",
       " 'upper',\n",
       " 'zfill']"
      ]
     },
     "execution_count": 121,
     "metadata": {},
     "output_type": "execute_result"
    }
   ],
   "source": [
    "dir(parrot)"
   ]
  },
  {
   "cell_type": "markdown",
   "metadata": {},
   "source": [
    "c) Count the number of characters (letters, blank space, commas, periods\n",
    "etc) in the sentence."
   ]
  },
  {
   "cell_type": "code",
   "execution_count": 22,
   "metadata": {},
   "outputs": [
    {
     "data": {
      "text/plain": [
       "65"
      ]
     },
     "execution_count": 22,
     "metadata": {},
     "output_type": "execute_result"
    }
   ],
   "source": [
    "len(parrot)"
   ]
  },
  {
   "cell_type": "markdown",
   "metadata": {},
   "source": [
    "e) If we type `parrot + parrot`, should it change the string itself, or merely produce a new string? How would you test your intuition? Write expressions below."
   ]
  },
  {
   "cell_type": "code",
   "execution_count": 28,
   "metadata": {},
   "outputs": [
    {
     "data": {
      "text/plain": [
       "'It is dead, that is what is wrong with it. This is an \"ex-Parrot\"It is dead, that is what is wrong with it. This is an \"ex-Parrot\"'"
      ]
     },
     "execution_count": 28,
     "metadata": {},
     "output_type": "execute_result"
    }
   ],
   "source": [
    "parrot+parrot"
   ]
  },
  {
   "cell_type": "code",
   "execution_count": 29,
   "metadata": {},
   "outputs": [
    {
     "data": {
      "text/plain": [
       "'The string does not change itself, it merely concatenates the strings specified to produce a new string.'"
      ]
     },
     "execution_count": 29,
     "metadata": {},
     "output_type": "execute_result"
    }
   ],
   "source": [
    "'''The string does not change itself, it merely concatenates the strings specified to produce a new string.'''"
   ]
  },
  {
   "cell_type": "markdown",
   "metadata": {},
   "source": [
    "f) Separate the sentence into a list of words (possibly including separators) using a built-in method. Call the list `parrot_words`."
   ]
  },
  {
   "cell_type": "code",
   "execution_count": 117,
   "metadata": {},
   "outputs": [],
   "source": [
    "parrot_words=parrot.split()"
   ]
  },
  {
   "cell_type": "code",
   "execution_count": 118,
   "metadata": {},
   "outputs": [
    {
     "name": "stdout",
     "output_type": "stream",
     "text": [
      "['It', 'is', 'dead,', 'that', 'is', 'what', 'is', 'wrong', 'with', 'it.', 'This', 'is', 'an', '\"ex-Parrot\"']\n"
     ]
    }
   ],
   "source": [
    "print(parrot_words)"
   ]
  },
  {
   "cell_type": "markdown",
   "metadata": {},
   "source": [
    "e) Merge (concatenate) `parrot_words` into a string again."
   ]
  },
  {
   "cell_type": "code",
   "execution_count": 45,
   "metadata": {},
   "outputs": [
    {
     "data": {
      "text/plain": [
       "'It is dead, that is what is wrong with it. This is an \"ex-Parrot\"'"
      ]
     },
     "execution_count": 45,
     "metadata": {},
     "output_type": "execute_result"
    }
   ],
   "source": [
    "' '.join(parrot_words)"
   ]
  },
  {
   "cell_type": "markdown",
   "metadata": {},
   "source": [
    "### 2. Iteration, sequences and string formatting\n",
    "\n",
    "Loops are not as painfully slow in Python as they are in R and thus, not as critical to avoid. However, for many use cases, _comprehensions_, like _list comprehensions_ or _dict comprehensions_ are faster. In this assignment we will see both traditional loop constructs and comprehensions. For an introduction to comprehensions, __[this](https://python-3-patterns-idioms-test.readthedocs.io/en/latest/Comprehensions.html)__ might be a good place to start.\n",
    "\n",
    "It should also be noted that what Python calls lists are unnamed sequences. As in R, a Python list can contain elements of many types, however, these can only be accessed by indexing or sequence, not by name as in R."
   ]
  },
  {
   "cell_type": "markdown",
   "metadata": {},
   "source": [
    "a) Write a `for`-loop that produces the following output on the screen:<br>\n",
    "> `The next number in the loop is 5`<br>\n",
    "> `The next number in the loop is 6`<br>\n",
    "> ...<br>\n",
    "> `The next number in the loop is 10`<br>\n",
    "\n",
    "[Hint: the `range` function has more than one argument.]<br>\n",
    "[Literature: For the range construct see LP part II chapter 4 (p.112).]"
   ]
  },
  {
   "cell_type": "code",
   "execution_count": 5,
   "metadata": {},
   "outputs": [
    {
     "name": "stdout",
     "output_type": "stream",
     "text": [
      "The next number in the loop is 5\n",
      "The next number in the loop is 6\n",
      "The next number in the loop is 7\n",
      "The next number in the loop is 8\n",
      "The next number in the loop is 9\n"
     ]
    }
   ],
   "source": [
    "for i in range(5,10):\n",
    "    print(\"The next number in the loop is {}\".format(i))"
   ]
  },
  {
   "cell_type": "markdown",
   "metadata": {},
   "source": [
    "b) Write a `for`-loop that for a given`n` sets `first_n_squared` to the sum of squares of the first `n` numbers (0..n-1)."
   ]
  },
  {
   "cell_type": "code",
   "execution_count": 18,
   "metadata": {},
   "outputs": [
    {
     "name": "stdout",
     "output_type": "stream",
     "text": [
      "1 + 2 + 3 + 4 + 5 + 6 + 7 + 8 + 9 + 10 + 11 + 12 + 13 + 14 + 15 + 16 + 17 + 18 + 19 + 20 + 21 + 22 + 23 + 24 + 25 + 26 + 27 + 28 + 29 + 30 + 31 + 32 + 33 + 34 + 35 + 36 + 37 + 38 + 39 + 40 + 41 + 42 + 43 + 44 + 45 + 46 + 47 + 48 + 49 + 50 + 51 + 52 + 53 + 54 + 55 + 56 + 57 + 58 + 59 + 60 + 61 + 62 + 63 + 64 + 65 + 66 + 67 + 68 + 69 + 70 + 71 + 72 + 73 + 74 + 75 + 76 + 77 + 78 + 79 + 80 + 81 + 82 + 83 + 84 + 85 + 86 + 87 + 88 + 89 + 90 + 91 + 92 + 93 + 94 + 95 + 96 + 97 + 98 + 99 + 100 = 5050\n",
      "\n"
     ]
    }
   ],
   "source": [
    "n = 100  # If we change this and run the code, the value of first_n_squared should change afterwards!\n",
    "# your code goes here\n",
    "j=[]\n",
    "for i in range(1,n+1):\n",
    "    print(i,sep=\" \",end=\" \")\n",
    "    if(i<n):\n",
    "        print(\"+\",sep=\" \",end=\" \")\n",
    "    j.append(i^2)\n",
    "print(\"=\",sum(j))\n",
    " \n",
    "print()   # should return 0^2 + 1^2 + ... + 99^2 = 328350 if n = 100"
   ]
  },
  {
   "cell_type": "markdown",
   "metadata": {},
   "source": [
    "c) Write a code snippet that counts the number of __letters__ in `parrot` (as defined above). Use a `for` loop."
   ]
  },
  {
   "cell_type": "code",
   "execution_count": 57,
   "metadata": {},
   "outputs": [
    {
     "data": {
      "text/plain": [
       "52"
      ]
     },
     "execution_count": 57,
     "metadata": {},
     "output_type": "execute_result"
    }
   ],
   "source": [
    "j=''.join(parrot_words)\n",
    "for i in range(1,len(j)+1):\n",
    "    a=len(j)\n",
    "a"
   ]
  },
  {
   "cell_type": "markdown",
   "metadata": {},
   "source": [
    "d) Write a for-loop that iterates over the list `names` below and presents them on the screen in the following fashion:\n",
    "\n",
    "> `The name Tesco is nice`<br>\n",
    "> ...<br>\n",
    "> `The name Zeno is nice`<br>\n",
    "\n",
    "Use Python's string formatting capabilities (the `format` function in the string class) to solve the problem.\n",
    "\n",
    "[Warning: The best practices for how to do string formatting differs from Python 2 and 3, make sure you use the Python 3 approach.]<br>\n",
    "[Literature: String formatting is covered in LP part II chapter 7.]"
   ]
  },
  {
   "cell_type": "code",
   "execution_count": 22,
   "metadata": {
    "scrolled": true
   },
   "outputs": [
    {
     "name": "stdout",
     "output_type": "stream",
     "text": [
      "The name Tesco is nice\n",
      "The name Forex is nice\n",
      "The name Alonzo is nice\n",
      "The name Zeno is nice\n"
     ]
    }
   ],
   "source": [
    "names = ['Tesco', 'Forex', 'Alonzo', 'Zeno']\n",
    "for i in range(0,len(names)):\n",
    "    print(\"{0}{1}{2}\".format(\"The name \",names[i],\" is nice\"))"
   ]
  },
  {
   "cell_type": "markdown",
   "metadata": {},
   "source": [
    "e) Write a for-loop that iterates over the list `names` and produces the list `n_letters` (`[5,5,6,4]`) with the length of each name."
   ]
  },
  {
   "cell_type": "code",
   "execution_count": 84,
   "metadata": {},
   "outputs": [
    {
     "data": {
      "text/plain": [
       "[5, 5, 6, 4]"
      ]
     },
     "execution_count": 84,
     "metadata": {},
     "output_type": "execute_result"
    }
   ],
   "source": [
    "n_letters=[]\n",
    "for i in range(0,len(names)):\n",
    "    n_letters.append(len(names[i]))\n",
    "n_letters    "
   ]
  },
  {
   "cell_type": "markdown",
   "metadata": {},
   "source": [
    "f) How would you - in a Python interpreter/REPL or in this Notebook - retrieve the help for the built-in function `max`?"
   ]
  },
  {
   "cell_type": "code",
   "execution_count": 85,
   "metadata": {},
   "outputs": [
    {
     "name": "stdout",
     "output_type": "stream",
     "text": [
      "Help on built-in function max in module builtins:\n",
      "\n",
      "max(...)\n",
      "    max(iterable, *[, default=obj, key=func]) -> value\n",
      "    max(arg1, arg2, *args, *[, key=func]) -> value\n",
      "    \n",
      "    With a single iterable argument, return its biggest item. The\n",
      "    default keyword-only argument specifies an object to return if\n",
      "    the provided iterable is empty.\n",
      "    With two or more arguments, return the largest argument.\n",
      "\n"
     ]
    }
   ],
   "source": [
    "help(max)"
   ]
  },
  {
   "cell_type": "markdown",
   "metadata": {},
   "source": [
    "g) Show an example of how `max` can be used with an iterable of your choice."
   ]
  },
  {
   "cell_type": "code",
   "execution_count": 2,
   "metadata": {},
   "outputs": [
    {
     "name": "stdout",
     "output_type": "stream",
     "text": [
      "The max value in the list:  111\n"
     ]
    }
   ],
   "source": [
    "mix_list = (0, '1','100',90, '111','2', 102.5)\n",
    " \n",
    "mx_val=max(mix_list, key=lambda x:int(x))\n",
    " \n",
    "print(\"The max value in the list: \",mx_val)"
   ]
  },
  {
   "cell_type": "markdown",
   "metadata": {
    "collapsed": true
   },
   "source": [
    "h) Use a comprehension (or generator) to calculate the sum 0^2 + ... + (n-1)^2 as above."
   ]
  },
  {
   "cell_type": "code",
   "execution_count": 19,
   "metadata": {},
   "outputs": [],
   "source": [
    "n = 100\n",
    "first_n_squared = None # Change None to your solution.\n",
    "first_n_squared # Should return the same result as your for-loop."
   ]
  },
  {
   "cell_type": "markdown",
   "metadata": {},
   "source": [
    "i) Solve assignment e) using a list comprehension.\n",
    "\n",
    "[Literature: Comprehensions are covered in LP part II chapter 4.]"
   ]
  },
  {
   "cell_type": "code",
   "execution_count": 93,
   "metadata": {},
   "outputs": [
    {
     "data": {
      "text/plain": [
       "4850"
      ]
     },
     "execution_count": 93,
     "metadata": {},
     "output_type": "execute_result"
    }
   ],
   "source": [
    "n=100\n",
    "first_n_squared = [(x-1)^2 for x in range(n)]\n",
    "first_n_squared=sum(first_n_squared)\n",
    "first_n_squared"
   ]
  },
  {
   "cell_type": "markdown",
   "metadata": {},
   "source": [
    "j) Use a list comprehension to produce a list `short_long` that indicates if the name (in the list `names`) has more than four letters. The answer should be `['long', 'long', 'long', 'short']`."
   ]
  },
  {
   "cell_type": "code",
   "execution_count": 94,
   "metadata": {},
   "outputs": [
    {
     "name": "stdout",
     "output_type": "stream",
     "text": [
      "['Tesco', 'Forex', 'Alonzo', 'Zeno']\n",
      "['long', 'long', 'long', 'short']\n"
     ]
    }
   ],
   "source": [
    "print(names)\n",
    "short_long=[]\n",
    "[short_long.append('long') if len(names[x])>4 else short_long.append('short') for x in range(0,len(names)) ]  \n",
    "print(short_long)"
   ]
  },
  {
   "cell_type": "markdown",
   "metadata": {},
   "source": [
    "k) Use a comprehension to count the number of letters in `parrot`. You may not use a `for`-loop. (The comprehension will contain the word `for`, but it isn't a `for ... in ...:`-statement.)"
   ]
  },
  {
   "cell_type": "code",
   "execution_count": 120,
   "metadata": {},
   "outputs": [
    {
     "data": {
      "text/plain": [
       "52"
      ]
     },
     "execution_count": 120,
     "metadata": {},
     "output_type": "execute_result"
    }
   ],
   "source": [
    "count=[(len(parrot[x])-1) if(parrot[x]==' ') else len(parrot[x]) for x in range(0,len(parrot))]\n",
    "sum(count)\n"
   ]
  },
  {
   "cell_type": "markdown",
   "metadata": {},
   "source": [
    "[Note: this is fairly similar to the long/short task, but note how we access member functions of the values.]"
   ]
  },
  {
   "cell_type": "markdown",
   "metadata": {},
   "source": [
    "l) Below we have the string `datadump`. Retrieve the substring string starting at character 27 and ending at character 34 by means of slicing."
   ]
  },
  {
   "cell_type": "code",
   "execution_count": 122,
   "metadata": {},
   "outputs": [
    {
     "data": {
      "text/plain": [
       "'old html'"
      ]
     },
     "execution_count": 122,
     "metadata": {},
     "output_type": "execute_result"
    }
   ],
   "source": [
    "datadump = \"The name of the game is <b>old html</b>. That is <b>so cool</b>.\"\n",
    "datadump[27:35]"
   ]
  },
  {
   "cell_type": "markdown",
   "metadata": {},
   "source": [
    "l) Write a loop that uses indices to __simultaneously__ loop over the lists `names` and `short_long` to write the following to the screen:\n",
    "\n",
    "> `The name Tesco is a long name`<br>\n",
    "> ...<br>\n",
    "> `The name Zeno is a short name`<br>"
   ]
  },
  {
   "cell_type": "code",
   "execution_count": 123,
   "metadata": {},
   "outputs": [
    {
     "name": "stdout",
     "output_type": "stream",
     "text": [
      "The name Tesco is a long name\n",
      "The name Forex is a long name\n",
      "The name Alonzo is a long name\n",
      "The name Zeno is a short name\n"
     ]
    }
   ],
   "source": [
    "for x in range(len(names)):\n",
    "    print(\"The name {0} is a {1} name\".format(names[x], short_long[x]))"
   ]
  },
  {
   "cell_type": "markdown",
   "metadata": {},
   "source": [
    "Note: this is a common programming pattern, though not particularly Pythonic in this use case. We do however need to know how to use indices in lists to work properly with Python."
   ]
  },
  {
   "cell_type": "markdown",
   "metadata": {},
   "source": [
    "m) Do the task above once more, but this time without the use of indices."
   ]
  },
  {
   "cell_type": "code",
   "execution_count": 124,
   "metadata": {},
   "outputs": [
    {
     "name": "stdout",
     "output_type": "stream",
     "text": [
      "(1, 1, 2)\n"
     ]
    }
   ],
   "source": []
  },
  {
   "cell_type": "markdown",
   "metadata": {},
   "source": [
    "[Hint: Use the `zip` function.]<br>\n",
    "[Literature: zip usage with dictionary is found in LP part II chapter 8 and dictionary comprehensions in the same place.]"
   ]
  },
  {
   "cell_type": "markdown",
   "metadata": {},
   "source": [
    "n) Among the built-in datatypes, it is also worth mentioning the tuple. Construct two tuples, `one` containing the number one and `two` containing the number 1 and the number 2. What happens if you add them? Name some method that a list with similar content (such as `two_list` below) would support, that `two` doesn't and explain why this makes sense."
   ]
  },
  {
   "cell_type": "code",
   "execution_count": 126,
   "metadata": {},
   "outputs": [
    {
     "name": "stdout",
     "output_type": "stream",
     "text": [
      "Adding one and two produces a new tuple (1, 1, 2) that contains elements from both the tuples. append() method supports two_list but does not support two\n"
     ]
    }
   ],
   "source": [
    "one = None    # Change this.\n",
    "two = None    # Change this\n",
    "two_list = [1, 2]\n",
    "\n",
    "print(\"Adding one and two produces a new tuple (1, 1, 2) that contains elements from both the tuples. append() method supports two_list but does not support two\")"
   ]
  },
  {
   "cell_type": "markdown",
   "metadata": {},
   "source": [
    "### 3. Conditionals, logic and while loops"
   ]
  },
  {
   "cell_type": "markdown",
   "metadata": {},
   "source": [
    "a) Below we have an integer called `n`. Write code that prints \"It's even!\" if it is even, and \"It's odd!\" if it's not."
   ]
  },
  {
   "cell_type": "code",
   "execution_count": 140,
   "metadata": {},
   "outputs": [
    {
     "name": "stdout",
     "output_type": "stream",
     "text": [
      "It's odd!\n"
     ]
    }
   ],
   "source": [
    "n = 5 # Change this to other values and run your code to test.\n",
    "if n%2==0:\n",
    "    print(\"It's even!\")\n",
    "else:\n",
    "    print(\"It's odd!\")"
   ]
  },
  {
   "cell_type": "markdown",
   "metadata": {},
   "source": [
    "b) Below we have the list `options`. Write code (including an `if` statement) that ensures that the boolean variable `OPTIMIZE` is True _if and only if_ the list contains the string `--optimize` (exactly like that)."
   ]
  },
  {
   "cell_type": "code",
   "execution_count": 145,
   "metadata": {},
   "outputs": [
    {
     "data": {
      "text/plain": [
       "True"
      ]
     },
     "execution_count": 145,
     "metadata": {},
     "output_type": "execute_result"
    }
   ],
   "source": [
    "OPTIMIZE = None       # Or some value which we are unsure of.\n",
    "options = ['--print-results', '--optimize', '-x']  # This might have been generated by a GUI or command line option\n",
    "\n",
    "if \"--optimize\" in options:\n",
    "  OPTIMIZE = True\n",
    "# Here OPTIMIZE should be True if and only if we found '--optimize' in the list.\n",
    "\n",
    "OPTIMIZE"
   ]
  },
  {
   "cell_type": "markdown",
   "metadata": {},
   "source": [
    "Note: It might be tempting to use a `for` loop. In this case, we will not be needing this, and you may _not_ use it. Python has some useful built-ins to test for membership.\n",
    "\n",
    "You may use an `else`-free `if` statement if you like."
   ]
  },
  {
   "cell_type": "markdown",
   "metadata": {},
   "source": [
    "c) Redo the task above, but now consider the case where the boolean `OPTIMIZE` is True _if and only if_ the `options` list contains either `--optimize` or `-o` (or both)."
   ]
  },
  {
   "cell_type": "code",
   "execution_count": 151,
   "metadata": {},
   "outputs": [
    {
     "data": {
      "text/plain": [
       "True"
      ]
     },
     "execution_count": 151,
     "metadata": {},
     "output_type": "execute_result"
    }
   ],
   "source": [
    "OPTIMIZE = None       # Or some value which we are unsure of.\n",
    "options = ['--print-results', '-o', '-x']  # This might have been generated by a GUI or command line option\n",
    "\n",
    "if \"--optimize\" or \"-o\" in options:\n",
    "  OPTIMIZE = True\n",
    "\n",
    "# Here OPTIMIZE should be True if and only if we found '--optimize' or '-o' in the list.\n",
    "OPTIMIZE"
   ]
  },
  {
   "cell_type": "markdown",
   "metadata": {},
   "source": [
    "[Hint: Don't forget to test your code with different versions of the options list! \n",
    "\n",
    "If you find something that seems strange, you might want to check what the value of the _condition itself_ is.]\n",
    "\n",
    "[Note: This extension of the task is included as it includes a common source of hard-to-spot bugs.]"
   ]
  },
  {
   "cell_type": "markdown",
   "metadata": {},
   "source": [
    "d) Write out *a few* good tests that should (in an *extremely* informal sense) illustrate the correctness of your solution. Make sure that you actually try them out with your code. \n",
    "\n",
    "Also make sure to write what the cases actually tell you, and why they are useful inputs to your set of tests. If you already have the test `options = [\"hey\"]`, adding the test `options = [\"hello\"]` doesn't add any possible ways of failing (or any coverage)."
   ]
  },
  {
   "cell_type": "code",
   "execution_count": null,
   "metadata": {},
   "outputs": [],
   "source": [
    "# Test 0: if options is the list below, OPTIMIZE should be True after. \n",
    "# This test demonstrates that ...\n",
    "options0 = None       "
   ]
  },
  {
   "cell_type": "markdown",
   "metadata": {},
   "source": [
    "[Note: This way of testing your code is very primitive, but it's good to get used to constructing test cases. We will be discussing procedures and functions in the next lab.]"
   ]
  },
  {
   "cell_type": "markdown",
   "metadata": {},
   "source": [
    "d) Sometimes we can avoid using an `if` statement altogether. The task above is a prime example of this (and was introduced to get some practice with the `if` statement). Solve the task above in a one-liner without resorting to an `if` statement. (You may use an `if` expression, but you don't have to.)"
   ]
  },
  {
   "cell_type": "code",
   "execution_count": null,
   "metadata": {},
   "outputs": [],
   "source": [
    "options = ['--print-results', '-o', '-x']  # This might have been generated by a GUI or command line option\n",
    "\n",
    "OPTIMIZE = None # Replace None with your single line of code.\n",
    "\n",
    "# Here OPTIMIZE should be True if and only if we found '--optimize' or '-o' in the list."
   ]
  },
  {
   "cell_type": "markdown",
   "metadata": {},
   "source": [
    "[Hint: What should the value of the condition be when you enter the then-branch of the `if`? When you enter the else-branch?]"
   ]
  },
  {
   "cell_type": "markdown",
   "metadata": {},
   "source": [
    "e) Write a `while`-loop that repeatedly generates a random number from a uniform distribution over the interval [0,1], and prints the sentence 'The random number is smaller than 0.9' on the screen until the generated random number is greater than 0.9.\n",
    "\n",
    "[Hint: Python has a `random` module with basic random number generators.]<br/>\n",
    "\n",
    "[Literature: Introduction to the Random module can be found in LP part III chapter 5 (Numeric Types). Importing modules is introduced in part I chapter 3  and covered in depth in part IV.]"
   ]
  },
  {
   "cell_type": "code",
   "execution_count": null,
   "metadata": {},
   "outputs": [],
   "source": []
  },
  {
   "cell_type": "markdown",
   "metadata": {},
   "source": [
    "### 4. Dictionaries\n",
    "\n",
    "Dictionaries are association tables, or maps, connecting a key to a value. For instance a name represented by a string as key with a number representing some attribute as a value. Dictionaries can themselves be values in other dictionaries, creating nested or hierarchical data structures. This is similar to named lists in R but keys in Python dictionaries can be more complex than just strings.\n",
    "\n",
    "[Literature: Dictionaries are found in LP section II chapter 4.]"
   ]
  },
  {
   "cell_type": "markdown",
   "metadata": {},
   "source": [
    "a) Make a dictionary named `amadeus` containing the information that the student Amadeus is a male, scored 8 on the Algebra exam and 13 on the History exam. The dictionary should NOT include a name entry."
   ]
  },
  {
   "cell_type": "code",
   "execution_count": 127,
   "metadata": {},
   "outputs": [
    {
     "data": {
      "text/plain": [
       "{'Gender': 'Male', 'Algebra': 8, 'History': 13}"
      ]
     },
     "execution_count": 127,
     "metadata": {},
     "output_type": "execute_result"
    }
   ],
   "source": [
    "amadeus = {'Gender': 'Male', 'Algebra': 8, 'History': 13}\n",
    "amadeus"
   ]
  },
  {
   "cell_type": "markdown",
   "metadata": {},
   "source": [
    "b) Make three more dictionaries, one for each of the students: Rosa, Mona and Ludwig, from the information in the following table:\n",
    "\n",
    "| Name          | Gender        | Algebra       | History | \n",
    "| :-----------: | :-----------: |:-------------:| :------:|\n",
    "| Rosa          | Female        | 19            | 22      |\n",
    "| Mona          | Female        | 6             | 27      |\n",
    "| Ludwig        | Other         | 12            | 18      |"
   ]
  },
  {
   "cell_type": "code",
   "execution_count": 129,
   "metadata": {},
   "outputs": [],
   "source": [
    "rosa = {'Gender': 'Female', 'Algebra': 19, 'History': 22}\n",
    "mona = {'Gender': 'Female', 'Algebra': 6, 'History': 27}\n",
    "ludwig = {'Gender': 'Other', 'Algebra': 12, 'History': 18}"
   ]
  },
  {
   "cell_type": "markdown",
   "metadata": {},
   "source": [
    "c) Combine the four students in a dictionary named `students` such that a user of your dictionary can type `students['Amadeus']['History']` to retrive Amadeus score on the history test.\n",
    "\n",
    "[HINT: The values in a dictionary can be dictionaries.]"
   ]
  },
  {
   "cell_type": "code",
   "execution_count": 130,
   "metadata": {},
   "outputs": [
    {
     "data": {
      "text/plain": [
       "13"
      ]
     },
     "execution_count": 130,
     "metadata": {},
     "output_type": "execute_result"
    }
   ],
   "source": [
    "students = {\"Amadeus\": amadeus, \"Rosa\": rosa, \"Mona\": mona, \"Ludwig\":ludwig}\n",
    "students[\"Amadeus\"][\"History\"]"
   ]
  },
  {
   "cell_type": "markdown",
   "metadata": {},
   "source": [
    "d) Add the new male student Karl to the dictionary `students`. Karl scored 14 on the Algebra exam and 10 on the History exam."
   ]
  },
  {
   "cell_type": "code",
   "execution_count": 131,
   "metadata": {},
   "outputs": [
    {
     "data": {
      "text/plain": [
       "{'Amadeus': {'Gender': 'Male', 'Algebra': 8, 'History': 13},\n",
       " 'Rosa': {'Gender': 'Female', 'Algebra': 19, 'History': 22},\n",
       " 'Mona': {'Gender': 'Female', 'Algebra': 6, 'History': 27},\n",
       " 'Ludwig': {'Gender': 'Other', 'Algebra': 12, 'History': 18},\n",
       " 'Karl': {'Gender': 'Male', 'Algebra': 14, 'History': 10}}"
      ]
     },
     "execution_count": 131,
     "metadata": {},
     "output_type": "execute_result"
    }
   ],
   "source": [
    "students[\"Karl\"] = {'Gender': 'Male', 'Algebra': 14, 'History': 10}\n",
    "students"
   ]
  },
  {
   "cell_type": "markdown",
   "metadata": {},
   "source": [
    "e) Use a `for`-loop to print out the names and scores of all students on the screen. The output should look like something this (the order of the students doesn't matter):\n",
    "\n",
    "> `Student Amadeus scored 8 on the Algebra exam and 13 on the History exam`<br>\n",
    "> `Student Rosa scored 19 on the Algebra exam and 22 on the History exam`<br>\n",
    "> ...\n",
    "\n",
    "[Hint: Dictionaries are iterables, also, check out the `items` function for dictionaries.]"
   ]
  },
  {
   "cell_type": "code",
   "execution_count": 132,
   "metadata": {},
   "outputs": [
    {
     "name": "stdout",
     "output_type": "stream",
     "text": [
      "Student Amadeus scored 8 on the Algebra exam and 13 on the History exam\n",
      "Student Rosa scored 19 on the Algebra exam and 22 on the History exam\n",
      "Student Mona scored 6 on the Algebra exam and 27 on the History exam\n",
      "Student Ludwig scored 12 on the Algebra exam and 18 on the History exam\n",
      "Student Karl scored 14 on the Algebra exam and 10 on the History exam\n"
     ]
    }
   ],
   "source": [
    "for k, v in students.items():\n",
    "    print(\"Student {0} scored {1} on the Algebra exam and {2} on the History exam\".format(k, v['Algebra'], v['History']))"
   ]
  },
  {
   "cell_type": "markdown",
   "metadata": {},
   "source": [
    "f) Use a dict comprehension and the lists `names` and `short_long` from assignment 2 to create a dictionary of names and wether they are short or long. The result should be a dictionary equivalent to {'Forex':'long', 'Tesco':'long', ...}.\n",
    "\n",
    "[Note: Remember that dictionaries in Python are unordered and that the order of the pairs in the above dictionary is arbitrary, you might not get the same order, this is fine.]<br>"
   ]
  },
  {
   "cell_type": "code",
   "execution_count": 133,
   "metadata": {},
   "outputs": [
    {
     "data": {
      "text/plain": [
       "{'Tesco': 'long', 'Forex': 'long', 'Alonzo': 'long', 'Zeno': 'short'}"
      ]
     },
     "execution_count": 133,
     "metadata": {},
     "output_type": "execute_result"
    }
   ],
   "source": [
    "length_of_name = {names:short_long for names, short_long in zip(names, short_long)}\n",
    "length_of_name"
   ]
  },
  {
   "cell_type": "markdown",
   "metadata": {},
   "source": [
    "### 5. Introductory file I/O\n",
    "\n",
    "File I/O in Python is a bit more general than what most R programmers are used to. In R, reading and writing files are usually performed using file type specific functions such as `read.csv` while in Python we usually start with reading standard text files. However, there are lots of specialized functions for different file types in Python as well, especially when using the __[pandas](http://pandas.pydata.org/)__ library which is built around a datatype similar to R DataFrames. Pandas will not be covered in this course though.\n",
    "\n",
    "[Literature: Files are introduced in LP part II chapter 4 and chapter 9.]"
   ]
  },
  {
   "cell_type": "markdown",
   "metadata": {},
   "source": [
    "The file `students.tsv` contains tab separated values corresponding to the students in previous assigments.\n",
    "\n",
    "a) Iterate over the file, line by line, and print each line. The result should be something like this:\n",
    "\n",
    "> `Amadeus\tMale\t8\t13`<br>\n",
    "> `Rosa\tFemale\t19\t22`<br>\n",
    "> ...\n",
    "\n",
    "The file should be closed when reading is complete.\n",
    "\n",
    "[Hint: Files are iterable in Python.]"
   ]
  },
  {
   "cell_type": "code",
   "execution_count": 135,
   "metadata": {},
   "outputs": [
    {
     "name": "stdout",
     "output_type": "stream",
     "text": [
      "Amadeus\tMale\t8\t13\n",
      "Rosa\tFemale\t19\t22\n",
      "Mona\tFemale\t6\t27\n",
      "Ludwig\tOther\t12\t18\n",
      "Karl\tMale\t14\t10"
     ]
    }
   ],
   "source": [
    "a = open(\"students.tsv\", \"r\")\n",
    "for eachLine in a.readlines():\n",
    "    print(eachLine, end = \"\")\n",
    "    \n",
    "a.close()"
   ]
  },
  {
   "cell_type": "markdown",
   "metadata": {},
   "source": [
    "b) Working with many files can be problematic, especially when you forget to close files or errors interrupt programs before files are closed. Python thus has a special `with` statement which automatically closes files for you, even if an error occurs. Redo the assignment above using the `with` statement.\n",
    "\n",
    "[Literature: With is introduced in LP part II chapter 9 page 294.]"
   ]
  },
  {
   "cell_type": "code",
   "execution_count": 136,
   "metadata": {},
   "outputs": [
    {
     "name": "stdout",
     "output_type": "stream",
     "text": [
      "Amadeus\tMale\t8\t13\n",
      "Rosa\tFemale\t19\t22\n",
      "Mona\tFemale\t6\t27\n",
      "Ludwig\tOther\t12\t18\n",
      "Karl\tMale\t14\t10"
     ]
    }
   ],
   "source": [
    "with open(\"students.tsv\") as a:\n",
    "    for eachLine in a.readlines():\n",
    "        print(eachLine, end = \"\")"
   ]
  },
  {
   "cell_type": "markdown",
   "metadata": {},
   "source": [
    "c) Recreate the dictionary from assignment the previous assignment by reading the data from the file. Using a dedicated csv-reader is not permitted."
   ]
  },
  {
   "cell_type": "code",
   "execution_count": 137,
   "metadata": {},
   "outputs": [
    {
     "data": {
      "text/plain": [
       "{'Amadeus': {'Gender': 'Male', 'Algebra': 8, 'History': 13},\n",
       " 'Rosa': {'Gender': 'Female', 'Algebra': 19, 'History': 22},\n",
       " 'Mona': {'Gender': 'Female', 'Algebra': 6, 'History': 27},\n",
       " 'Ludwig': {'Gender': 'Other', 'Algebra': 12, 'History': 18},\n",
       " 'Karl': {'Gender': 'Male', 'Algebra': 14, 'History': 10}}"
      ]
     },
     "execution_count": 137,
     "metadata": {},
     "output_type": "execute_result"
    }
   ],
   "source": [
    "students_1 = {}\n",
    "with open(\"students.tsv\") as a:\n",
    "    for eachLine in a.readlines():\n",
    "        student = eachLine.split()\n",
    "        students_1[student[0]] = {'Gender': student[1], 'Algebra': int(student[2]), 'History': int(student[3])}\n",
    "\n",
    "students_1"
   ]
  },
  {
   "cell_type": "markdown",
   "metadata": {},
   "source": [
    "d) Using the dictionary above, write sentences from task 4e above to a new file, called `students.txt`."
   ]
  },
  {
   "cell_type": "code",
   "execution_count": 139,
   "metadata": {},
   "outputs": [],
   "source": [
    "with open(\"students.txt\", \"w\") as a:\n",
    "    for k, v in students_1.items():\n",
    "        a.write(\"Student {0} scored {1} in Algebra exam and {2} in History exam\\n\".format(k, v[\"Algebra\"], v[\"History\"]))"
   ]
  }
 ],
 "metadata": {
  "kernelspec": {
   "display_name": "Python 3",
   "language": "python",
   "name": "python3"
  },
  "language_info": {
   "codemirror_mode": {
    "name": "ipython",
    "version": 3
   },
   "file_extension": ".py",
   "mimetype": "text/x-python",
   "name": "python",
   "nbconvert_exporter": "python",
   "pygments_lexer": "ipython3",
   "version": "3.7.1"
  }
 },
 "nbformat": 4,
 "nbformat_minor": 2
}
